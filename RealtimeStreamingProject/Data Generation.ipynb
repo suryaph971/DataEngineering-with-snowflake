{
 "cells": [
  {
   "cell_type": "code",
   "execution_count": 1,
   "id": "46f9a1bf",
   "metadata": {},
   "outputs": [
    {
     "name": "stdout",
     "output_type": "stream",
     "text": [
      "Requirement already satisfied: faker in /usr/local/lib/python3.7/dist-packages (18.13.0)\n",
      "Requirement already satisfied: python-dateutil>=2.4 in /usr/local/lib/python3.7/dist-packages (from faker) (2.8.2)\n",
      "Requirement already satisfied: typing-extensions>=3.10.0.1 in /usr/local/lib/python3.7/dist-packages (from faker) (4.0.0)\n",
      "Requirement already satisfied: six>=1.5 in /usr/lib/python3/dist-packages (from python-dateutil>=2.4->faker) (1.12.0)\n",
      "\u001b[33mWARNING: Running pip as the 'root' user can result in broken permissions and conflicting behaviour with the system package manager. It is recommended to use a virtual environment instead: https://pip.pypa.io/warnings/venv\u001b[0m\n",
      "\u001b[33mWARNING: You are using pip version 21.3.1; however, version 23.3.2 is available.\n",
      "You should consider upgrading via the '/usr/bin/python3 -m pip install --upgrade pip' command.\u001b[0m\n",
      "Note: you may need to restart the kernel to use updated packages.\n"
     ]
    }
   ],
   "source": [
    "pip install faker"
   ]
  },
  {
   "cell_type": "code",
   "execution_count": 2,
   "id": "5ca04815",
   "metadata": {},
   "outputs": [],
   "source": [
    "from faker import Faker\n",
    "import csv\n",
    "import random\n",
    "from decimal import Decimal\n",
    "from datetime import datetime"
   ]
  },
  {
   "cell_type": "code",
   "execution_count": 3,
   "id": "a1609a15",
   "metadata": {},
   "outputs": [],
   "source": [
    "recordCount=10000\n",
    "fake=Faker()"
   ]
  },
  {
   "cell_type": "code",
   "execution_count": 10,
   "id": "358210bc",
   "metadata": {},
   "outputs": [
    {
     "name": "stdout",
     "output_type": "stream",
     "text": [
      "20231227020053\n"
     ]
    }
   ],
   "source": [
    "currentTime=datetime.now().strftime(\"%Y%m%d%H%M%S\")\n",
    "print(currentTime)"
   ]
  },
  {
   "cell_type": "code",
   "execution_count": 11,
   "id": "359c8ef5",
   "metadata": {},
   "outputs": [],
   "source": [
    "def createCsvFile():\n",
    "    with open(f'FakeDataset/customer_{currentTime}.csv','w') as csvfile:\n",
    "        fieldnames = [\"customer_id\",\"first_name\",\"last_name\",\"email\",\"street\",\n",
    "                      \"city\",\"state\",\"country\"\n",
    "                     ]\n",
    "        writer=csv.DictWriter(csvfile,fieldnames=fieldnames)\n",
    "        writer.writeheader()\n",
    "        for i in range(recordCount):\n",
    "            writer.writerow(\n",
    "                {\n",
    "                    \"customer_id\":i,\n",
    "                    \"first_name\":fake.first_name(),\n",
    "                    \"last_name\":fake.last_name(),\n",
    "                    \"email\":fake.email(),\n",
    "                    \"street\":fake.street_address(),\n",
    "                    \"city\":fake.city(),\n",
    "                    \"state\":fake.state(),\n",
    "                    \"country\":fake.country()\n",
    "                }\n",
    "            )\n",
    "        "
   ]
  },
  {
   "cell_type": "code",
   "execution_count": 12,
   "id": "49a1b3b1",
   "metadata": {},
   "outputs": [],
   "source": [
    "if __name__=='__main__':\n",
    "    createCsvFile()"
   ]
  },
  {
   "cell_type": "code",
   "execution_count": null,
   "id": "ead4f08f",
   "metadata": {},
   "outputs": [],
   "source": []
  },
  {
   "cell_type": "code",
   "execution_count": null,
   "id": "d1166499",
   "metadata": {},
   "outputs": [],
   "source": []
  },
  {
   "cell_type": "code",
   "execution_count": null,
   "id": "c2238fb2",
   "metadata": {},
   "outputs": [],
   "source": []
  },
  {
   "cell_type": "code",
   "execution_count": null,
   "id": "3e530fcd",
   "metadata": {},
   "outputs": [],
   "source": []
  }
 ],
 "metadata": {
  "kernelspec": {
   "display_name": "Python 3 (ipykernel)",
   "language": "python",
   "name": "python3"
  },
  "language_info": {
   "codemirror_mode": {
    "name": "ipython",
    "version": 3
   },
   "file_extension": ".py",
   "mimetype": "text/x-python",
   "name": "python",
   "nbconvert_exporter": "python",
   "pygments_lexer": "ipython3",
   "version": "3.7.3"
  }
 },
 "nbformat": 4,
 "nbformat_minor": 5
}
